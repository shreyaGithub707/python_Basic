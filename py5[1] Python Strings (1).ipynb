{
 "cells": [
  {
   "cell_type": "markdown",
   "metadata": {},
   "source": [
    "# Python Strings\n",
    "Python string is the collection of the characters surrounded by single quotes, double quotes, or triple quotes. The computer does not understand the characters; internally, it stores manipulated character as the combination of the 0's and 1's.\n",
    "\n",
    "Each character is encoded in the ASCII or Unicode character. So we can say that Python strings are also called the collection of Unicode characters.\n",
    "\n",
    "In Python, strings can be created by enclosing the character or the sequence of characters in the quotes. Python allows us to use single quotes, double quotes, or triple quotes to create the string."
   ]
  },
  {
   "cell_type": "code",
   "execution_count": 14,
   "metadata": {},
   "outputs": [
    {
     "name": "stdout",
     "output_type": "stream",
     "text": [
      "<class 'str'>  then it will print a string Hi Python !\n"
     ]
    }
   ],
   "source": [
    "# Syntax:\n",
    "str1 = \"Hi Python !\"    \n",
    "\n",
    "# Here, if we check the type of the variable str using a Python script\n",
    "\n",
    "print(type(str1),\" then it will print a string\", (str1))"
   ]
  },
  {
   "cell_type": "markdown",
   "metadata": {},
   "source": [
    "## Creating String in Python\n",
    "We can create a string by enclosing the characters in single-quotes or double- quotes. Python also provides triple-quotes to represent the string, but it is generally used for multiline string or docstrings.\n",
    "\n"
   ]
  },
  {
   "cell_type": "code",
   "execution_count": 15,
   "metadata": {
    "scrolled": true
   },
   "outputs": [
    {
     "name": "stdout",
     "output_type": "stream",
     "text": [
      "Hello Python\n",
      "Hello Python\n",
      "Triple quotes are generally used for  \n",
      "    represent the multiline or \n",
      "    docstring\n"
     ]
    }
   ],
   "source": [
    "#Using single quotes  \n",
    "str1 = 'Hello Python'  \n",
    "print(str1)  \n",
    "#Using double quotes  \n",
    "str2 = \"Hello Python\"  \n",
    "print(str2)  \n",
    "  \n",
    "#Using triple quotes  \n",
    "str3 = '''Triple quotes are generally used for  \n",
    "    represent the multiline or \n",
    "    docstring'''   \n",
    "print(str3)  "
   ]
  },
  {
   "cell_type": "markdown",
   "metadata": {},
   "source": [
    "## Strings indexing and splitting\n",
    "Like other languages, the indexing of the Python strings starts from 0. For example, The string \"HELLO\" is indexed as given in the below example"
   ]
  },
  {
   "cell_type": "code",
   "execution_count": 4,
   "metadata": {
    "scrolled": true
   },
   "outputs": [
    {
     "name": "stdout",
     "output_type": "stream",
     "text": [
      "H\n",
      "E\n",
      "L\n",
      "L\n",
      "O\n"
     ]
    }
   ],
   "source": [
    "str1 = \"HELLO\"  \n",
    "print(str1[0])  \n",
    "print(str1[1])  \n",
    "print(str1[2])  \n",
    "print(str1[3])  \n",
    "print(str1[4])  "
   ]
  },
  {
   "cell_type": "code",
   "execution_count": 5,
   "metadata": {},
   "outputs": [
    {
     "ename": "IndexError",
     "evalue": "string index out of range",
     "output_type": "error",
     "traceback": [
      "\u001b[1;31m---------------------------------------------------------------------------\u001b[0m",
      "\u001b[1;31mIndexError\u001b[0m                                Traceback (most recent call last)",
      "\u001b[1;32m<ipython-input-5-54e5c6bffd69>\u001b[0m in \u001b[0;36m<module>\u001b[1;34m\u001b[0m\n\u001b[0;32m      1\u001b[0m \u001b[1;31m# It returns the IndexError because 6th index doesn't exist\u001b[0m\u001b[1;33m\u001b[0m\u001b[1;33m\u001b[0m\u001b[1;33m\u001b[0m\u001b[0m\n\u001b[1;32m----> 2\u001b[1;33m \u001b[0mprint\u001b[0m\u001b[1;33m(\u001b[0m\u001b[0mstr1\u001b[0m\u001b[1;33m[\u001b[0m\u001b[1;36m6\u001b[0m\u001b[1;33m]\u001b[0m\u001b[1;33m)\u001b[0m\u001b[1;33m\u001b[0m\u001b[1;33m\u001b[0m\u001b[0m\n\u001b[0m",
      "\u001b[1;31mIndexError\u001b[0m: string index out of range"
     ]
    }
   ],
   "source": [
    "# It returns the IndexError because 6th index doesn't exist  \n",
    "print(str1[6])  "
   ]
  },
  {
   "cell_type": "markdown",
   "metadata": {},
   "source": [
    "As shown in Python, the slice operator [  ] is used to access the individual characters of the string. However, we can use the : (colon) operator in Python to access the substring from the given string.\n",
    "\n",
    "\n",
    "we must notice that the upper range given in the slice operator is always exclusive i.e., if str = 'HELLO' is given, then str[1:3] will always include str[1] = 'E', str[2] = 'L' and nothing else.\n",
    "\n",
    "\n",
    "Consider the following example."
   ]
  },
  {
   "cell_type": "code",
   "execution_count": 17,
   "metadata": {},
   "outputs": [
    {
     "name": "stdout",
     "output_type": "stream",
     "text": [
      "DATATRAINED\n",
      "ATAT\n",
      "TA\n",
      "DAT\n",
      "TRA\n"
     ]
    }
   ],
   "source": [
    "# Given String  \n",
    "str2 = \"DATATRAINED\"  \n",
    "# Start Oth index to end  \n",
    "print(str2[0:])  \n",
    "# Starts 1th index to 4th index  \n",
    "print(str2[1:5])  \n",
    "# Starts 2nd index to 3rd index  \n",
    "print(str2[2:4])  \n",
    "# Starts 0th to 2nd index  \n",
    "print(str2[:3])  \n",
    "#Starts 4th to 6th index  \n",
    "print(str2[4:7])  "
   ]
  },
  {
   "cell_type": "markdown",
   "metadata": {},
   "source": [
    "We can do the negative slicing in the string; it starts from the rightmost character, which is indicated as -1.\n",
    "\n",
    "The second rightmost index indicates -2, and so on."
   ]
  },
  {
   "cell_type": "code",
   "execution_count": 6,
   "metadata": {},
   "outputs": [
    {
     "name": "stdout",
     "output_type": "stream",
     "text": [
      "D\n",
      "N\n",
      "ED\n",
      "INE\n",
      "TRAIN\n",
      "DENIARTATAD\n",
      "DATATRAINED\n"
     ]
    }
   ],
   "source": [
    "str3 = 'DATATRAINED'  \n",
    "print(str3[-1])  \n",
    "print(str3[-3])  \n",
    "print(str3[-2:])  \n",
    "print(str3[-4:-1])  \n",
    "print(str3[-7:-2])  \n",
    "# Reversing the given string  \n",
    "print(str3[::-1])  \n",
    "print(str3[-11:])  "
   ]
  },
  {
   "cell_type": "markdown",
   "metadata": {},
   "source": [
    "Reassigning Strings\n",
    "Updating the content of the strings is as easy as assigning it to a new string. The string object doesn't support item assignment i.e., A string can only be replaced with new string since its content cannot be partially replaced. Strings are immutable in Python.\n",
    "\n",
    "Consider the following example.\n"
   ]
  },
  {
   "cell_type": "code",
   "execution_count": 7,
   "metadata": {},
   "outputs": [
    {
     "ename": "TypeError",
     "evalue": "'str' object does not support item assignment",
     "output_type": "error",
     "traceback": [
      "\u001b[1;31m---------------------------------------------------------------------------\u001b[0m",
      "\u001b[1;31mTypeError\u001b[0m                                 Traceback (most recent call last)",
      "\u001b[1;32m<ipython-input-7-4154d7880619>\u001b[0m in \u001b[0;36m<module>\u001b[1;34m\u001b[0m\n\u001b[0;32m      1\u001b[0m \u001b[1;31m# Example 1\u001b[0m\u001b[1;33m\u001b[0m\u001b[1;33m\u001b[0m\u001b[1;33m\u001b[0m\u001b[0m\n\u001b[0;32m      2\u001b[0m \u001b[0mstr1\u001b[0m \u001b[1;33m=\u001b[0m \u001b[1;34m\"HELLO\"\u001b[0m\u001b[1;33m\u001b[0m\u001b[1;33m\u001b[0m\u001b[0m\n\u001b[1;32m----> 3\u001b[1;33m \u001b[0mstr1\u001b[0m\u001b[1;33m[\u001b[0m\u001b[1;36m0\u001b[0m\u001b[1;33m]\u001b[0m \u001b[1;33m=\u001b[0m \u001b[1;34m\"h\"\u001b[0m\u001b[1;33m\u001b[0m\u001b[1;33m\u001b[0m\u001b[0m\n\u001b[0m",
      "\u001b[1;31mTypeError\u001b[0m: 'str' object does not support item assignment"
     ]
    }
   ],
   "source": [
    "# Example 1\n",
    "str1 = \"HELLO\"    \n",
    "str1[0] = \"h\"      "
   ]
  },
  {
   "cell_type": "code",
   "execution_count": 20,
   "metadata": {},
   "outputs": [
    {
     "name": "stdout",
     "output_type": "stream",
     "text": [
      "HELLO\n",
      "hello\n"
     ]
    }
   ],
   "source": [
    "# However, in example 1, the string str can be assigned completely to a new content as specified in the following example.\n",
    "\n",
    "# Example 2\n",
    "str1 = \"HELLO\"    \n",
    "print(str1)    \n",
    "str1 = \"hello\"    \n",
    "print(str1) "
   ]
  },
  {
   "cell_type": "markdown",
   "metadata": {},
   "source": [
    "## Deleting the String\n",
    "As we know that strings are immutable. We cannot delete or remove the characters from the string.  But we can delete the entire string using the del keyword.\n"
   ]
  },
  {
   "cell_type": "code",
   "execution_count": 8,
   "metadata": {},
   "outputs": [
    {
     "ename": "TypeError",
     "evalue": "'str' object doesn't support item deletion",
     "output_type": "error",
     "traceback": [
      "\u001b[1;31m---------------------------------------------------------------------------\u001b[0m",
      "\u001b[1;31mTypeError\u001b[0m                                 Traceback (most recent call last)",
      "\u001b[1;32m<ipython-input-8-70167aa55e7a>\u001b[0m in \u001b[0;36m<module>\u001b[1;34m\u001b[0m\n\u001b[0;32m      1\u001b[0m \u001b[1;31m# Trying to delete one element from string.\u001b[0m\u001b[1;33m\u001b[0m\u001b[1;33m\u001b[0m\u001b[1;33m\u001b[0m\u001b[0m\n\u001b[0;32m      2\u001b[0m \u001b[0mstr1\u001b[0m \u001b[1;33m=\u001b[0m \u001b[1;34m\"DATATRAINED\"\u001b[0m\u001b[1;33m\u001b[0m\u001b[1;33m\u001b[0m\u001b[0m\n\u001b[1;32m----> 3\u001b[1;33m \u001b[1;32mdel\u001b[0m \u001b[0mstr1\u001b[0m\u001b[1;33m[\u001b[0m\u001b[1;36m1\u001b[0m\u001b[1;33m]\u001b[0m\u001b[1;33m\u001b[0m\u001b[1;33m\u001b[0m\u001b[0m\n\u001b[0m",
      "\u001b[1;31mTypeError\u001b[0m: 'str' object doesn't support item deletion"
     ]
    }
   ],
   "source": [
    "# Trying to delete one element from string.\n",
    "str1 = \"DATATRAINED\"  \n",
    "del str1[1] "
   ]
  },
  {
   "cell_type": "code",
   "execution_count": 9,
   "metadata": {},
   "outputs": [
    {
     "ename": "NameError",
     "evalue": "name 'str1' is not defined",
     "output_type": "error",
     "traceback": [
      "\u001b[1;31m---------------------------------------------------------------------------\u001b[0m",
      "\u001b[1;31mNameError\u001b[0m                                 Traceback (most recent call last)",
      "\u001b[1;32m<ipython-input-9-579468d03dd5>\u001b[0m in \u001b[0;36m<module>\u001b[1;34m\u001b[0m\n\u001b[0;32m      3\u001b[0m \u001b[0mstr1\u001b[0m \u001b[1;33m=\u001b[0m \u001b[1;34m\"DATATRAINED\"\u001b[0m\u001b[1;33m\u001b[0m\u001b[1;33m\u001b[0m\u001b[0m\n\u001b[0;32m      4\u001b[0m \u001b[1;32mdel\u001b[0m \u001b[0mstr1\u001b[0m\u001b[1;33m\u001b[0m\u001b[1;33m\u001b[0m\u001b[0m\n\u001b[1;32m----> 5\u001b[1;33m \u001b[0mprint\u001b[0m\u001b[1;33m(\u001b[0m\u001b[0mstr1\u001b[0m\u001b[1;33m)\u001b[0m\u001b[1;33m\u001b[0m\u001b[1;33m\u001b[0m\u001b[0m\n\u001b[0m",
      "\u001b[1;31mNameError\u001b[0m: name 'str1' is not defined"
     ]
    }
   ],
   "source": [
    "# Now we are deleting entire string.\n",
    "\n",
    "str1 = \"DATATRAINED\"  \n",
    "del str1  \n",
    "print(str1)  "
   ]
  },
  {
   "cell_type": "markdown",
   "metadata": {},
   "source": [
    "### String Operators"
   ]
  },
  {
   "cell_type": "raw",
   "metadata": {},
   "source": [
    "Operator\tDescription\n",
    "+\t                                     It is known as concatenation operator used to join \n",
    "                                         the strings given either side of the operator.\n",
    "                                         \n",
    "*\t                                     It is known as repetition operator. It concatenates\n",
    "                                         the multiple copies of the same string.\n",
    "                                         \n",
    "[]\t                                     It is known as slice operator. It is used to access\n",
    "                                         the sub-strings of a particular string.\n",
    "                                         \n",
    "[:]\t                                     It is known as range slice operator. It is used to\n",
    "                                         access the characters from the specified range.\n",
    "                                         \n",
    "in\t                                     It is known as membership operator. It returns if a \n",
    "                                         particular sub-string is present in the specified string.\n",
    "                                         \n",
    "not in\t                                 It is also a membership operator and does the exact\n",
    "                                         reverse of in. It returns true if a particular substring\n",
    "                                         is not present in the specified string.\n",
    "                                         \n",
    "r/R\t                                     It is used to specify the raw string. Raw strings are used\n",
    "                                         in the cases where we need to print the actual meaning of escape\n",
    "                                         characters such as \"C://python\". To define any string as a \n",
    "                                         raw string, the character r or R is followed by the string.\n",
    "                                         \n",
    "%\t                                     It is used to perform string formatting. It makes use of the\n",
    "                                         format specifiers used in C programming like %d or %f to map\n",
    "                                         their values in python. We will discuss how formatting is \n",
    "                                         done in python."
   ]
  },
  {
   "cell_type": "markdown",
   "metadata": {},
   "source": [
    "#### Example\n",
    "Consider the following example to understand the real use of Python operators.\n"
   ]
  },
  {
   "cell_type": "code",
   "execution_count": 10,
   "metadata": {},
   "outputs": [
    {
     "name": "stdout",
     "output_type": "stream",
     "text": [
      "HelloHelloHello\n",
      "Hello world\n",
      "o\n",
      "ll\n",
      "False\n",
      "False\n",
      "C://python37\n",
      "The string str : Hello\n"
     ]
    }
   ],
   "source": [
    "str4 = \"Hello\"     \n",
    "str1 = \" world\"    \n",
    "print(str4*3) # prints HelloHelloHello    \n",
    "print(str4+str1)# prints Hello world     \n",
    "print(str4[4]) # prints o                \n",
    "print(str4[2:4]); # prints ll                    \n",
    "print('w' in str4) # prints false as w is not present in str    \n",
    "print('wo' not in str1) # prints false as wo is present in str1.     \n",
    "print(r'C://python37') # prints C://python37 as it is written    \n",
    "print(\"The string str : %s\"%(str4)) # prints The string str : Hello   "
   ]
  },
  {
   "cell_type": "markdown",
   "metadata": {},
   "source": [
    "### Python String Formatting\n",
    "Escape Sequence\n",
    "Let's suppose we need to write the text as - They said, \"Hello what's going on?\"- the given statement can be written in single quotes or double quotes but it will raise the SyntaxError as it contains both single and double-quotes.\n",
    "\n",
    "Example"
   ]
  },
  {
   "cell_type": "code",
   "execution_count": 24,
   "metadata": {},
   "outputs": [
    {
     "ename": "SyntaxError",
     "evalue": "invalid syntax (<ipython-input-24-7c29bcb325cd>, line 1)",
     "output_type": "error",
     "traceback": [
      "\u001b[1;36m  File \u001b[1;32m\"<ipython-input-24-7c29bcb325cd>\"\u001b[1;36m, line \u001b[1;32m1\u001b[0m\n\u001b[1;33m    str = \"They said, \"Hello what's going on?\"\"\u001b[0m\n\u001b[1;37m                           ^\u001b[0m\n\u001b[1;31mSyntaxError\u001b[0m\u001b[1;31m:\u001b[0m invalid syntax\n"
     ]
    }
   ],
   "source": [
    "str = \"They said, \"Hello what's going on?\"\"  \n",
    "print(str)  "
   ]
  },
  {
   "cell_type": "markdown",
   "metadata": {},
   "source": [
    "We can use the triple quotes to accomplish this problem but Python provides the escape sequence.\n",
    "\n",
    "The backslash(/) symbol denotes the escape sequence. The backslash can be followed by a special character and it interpreted differently. The single quotes inside the string must be escaped. We can apply the same as in the double quotes."
   ]
  },
  {
   "cell_type": "code",
   "execution_count": 25,
   "metadata": {},
   "outputs": [
    {
     "name": "stdout",
     "output_type": "stream",
     "text": [
      "''They said, \"What's there?\"\n",
      "They said, \"What's going on?\"\n",
      "They said, \"What's going on?\"\n"
     ]
    }
   ],
   "source": [
    "# using triple quotes  \n",
    "print('''''They said, \"What's there?\"''')  \n",
    "  \n",
    "# escaping single quotes  \n",
    "print('They said, \"What\\'s going on?\"')  \n",
    "  \n",
    "# escaping double quotes  \n",
    "print(\"They said, \\\"What's going on?\\\"\")  "
   ]
  },
  {
   "cell_type": "raw",
   "metadata": {},
   "source": [
    "Escape Sequence        Description\n",
    "\\\\\t               Backslash\n",
    "\\'\t               Single Quotes\n",
    "\\n\t               ASCII Linefeed\n",
    "\\t\t               ASCII Horizontal Tab"
   ]
  },
  {
   "cell_type": "code",
   "execution_count": 26,
   "metadata": {},
   "outputs": [
    {
     "name": "stdout",
     "output_type": "stream",
     "text": [
      "www.example.com\\example\n",
      "what's your favourite food?\n",
      "Printing \n",
      " new \n",
      " line \n",
      " after \n",
      " every \n",
      " word\n",
      "Printing \t new \t tab \t after \t every \t word\n"
     ]
    }
   ],
   "source": [
    "# Example\n",
    "print(\"www.example.com\\\\example\") #escape sequence for printing one backslash.\n",
    "print('what\\'s your favourite food?')\n",
    "print(\"Printing \\n new \\n line \\n after \\n every \\n word\")\n",
    "print(\"Printing \\t new \\t tab \\t after \\t every \\t word\")"
   ]
  },
  {
   "cell_type": "markdown",
   "metadata": {},
   "source": [
    "### The format() method\n",
    "The format() method is the most flexible and useful method in formatting strings. The curly braces {} are used as the placeholder in the string and replaced by the format() method argument. \n",
    "\n",
    "Let's have a look at the given an example:"
   ]
  },
  {
   "cell_type": "code",
   "execution_count": 27,
   "metadata": {},
   "outputs": [
    {
     "name": "stdout",
     "output_type": "stream",
     "text": [
      "Devansh and Abhishek both are the best friend\n",
      "Rohit and Virat best players \n",
      "James,Peter,Ricky\n"
     ]
    }
   ],
   "source": [
    "\n",
    "# Using Curly braces  \n",
    "print(\"{} and {} both are the best friend\".format(\"Devansh\",\"Abhishek\"))  \n",
    "  \n",
    "#Positional Argument  \n",
    "print(\"{1} and {0} best players \".format(\"Virat\",\"Rohit\"))  \n",
    "  \n",
    "#Keyword Argument  \n",
    "print(\"{a},{b},{c}\".format(a = \"James\", b = \"Peter\", c = \"Ricky\"))  "
   ]
  },
  {
   "cell_type": "markdown",
   "metadata": {},
   "source": [
    "### Python String Formatting Using % Operator\n",
    "Python allows us to use the format specifiers used in C's printf statement. The format specifiers in Python are treated in the same way as they are treated in C. However, Python provides an additional operator %, which is used as an interface between the format specifiers and their values. In other words, we can say that it binds the format specifiers to the values.\n",
    "\n",
    "\n",
    "Consider the following example.\n"
   ]
  },
  {
   "cell_type": "code",
   "execution_count": 1,
   "metadata": {},
   "outputs": [
    {
     "name": "stdout",
     "output_type": "stream",
     "text": [
      "Hi I am Integer ... My value is 10\n",
      "Hi I am float ... My value is 1.290000\n",
      "Hi I am string ... My value is Devansh\n"
     ]
    }
   ],
   "source": [
    "\n",
    "Integer = 10;    \n",
    "Float = 1.290    \n",
    "String = \"Devansh\"    \n",
    "print(\"Hi I am Integer ... My value is %d\\nHi I am float ... My value is %f\\nHi I am string ... My value is %s\"%(Integer,Float,String))  "
   ]
  },
  {
   "cell_type": "markdown",
   "metadata": {},
   "source": [
    "### Python String functions\n"
   ]
  },
  {
   "cell_type": "raw",
   "metadata": {},
   "source": [
    "\n",
    "      Method\t                                   Description\n",
    "      \n",
    "capitalize()\t                It capitalizes the first character of the String.\n",
    "                                This function is deprecated in python3\n",
    "                                \n",
    "casefold()\t                    It returns a version of s suitable for case-less comparisons.\n",
    "\n",
    "center(width ,fillchar)\t        It returns a space padded string with the original string \n",
    "                                centred with equal number of left and right spaces.\n",
    "                                \n",
    "count(string,begin,end)     \tIt counts the number of occurrences of a substring in a\n",
    "                                String between begin and end index.\n",
    "\n",
    "decode(encoding = 'UTF8')\t    Decodes the string using codec registered for encoding.\n",
    "\n",
    "encode()\t                    Encode S using the codec registered for encoding.\n",
    "                                Default encoding is 'utf-8'.\n",
    "\n",
    "endswith(suffix)\t            It returns a Boolean value if the string terminates\n",
    "                                with given suffix between begin and end.\n",
    "\n",
    "expandtabs(tabsize = 8)     \tIt defines tabs in string to multiple spaces. \n",
    "                                The default space value is 8.\n",
    "\n",
    "find(substring)             \tIt returns the index value of the string where substring \n",
    "                                is found between begin index and end index.\n",
    "\n",
    "format(value)\t                It returns a formatted version of S, using the passed value.\n",
    "\n",
    "index(subsring)\t                It throws an exception if string is not found. It works \n",
    "                                same as find() method.\n",
    "\n",
    "isalnum()\t                    It returns true if the characters in the string are \n",
    "                                alphanumeric i.e., alphabets or numbers and there is \n",
    "                                at least 1 character. Otherwise, it returns false.\n",
    "\n",
    "isalpha()\t                    It returns true if all the characters are alphabets \n",
    "                                and there is at least one character, otherwise False.\n",
    "\n",
    "isdecimal()\t                    It returns true if all the characters of the string are decimals.\n",
    "\n",
    "isdigit()\t                    It returns true if all the characters are digits and \n",
    "                                there is at least one character, otherwise False.\n",
    "\n",
    "isidentifier()\t                It returns true if the string is the valid identifier.\n",
    "\n",
    "islower()\t                    It returns true if the characters of a string are in lower case, otherwise false.\n",
    "\n",
    "isnumeric() \t                It returns true if the string contains only numeric characters.\n",
    "\n",
    "isprintable()\t                It returns true if all the characters of s are printable or s is empty, false otherwise.\n",
    "\n",
    "isupper()\t                    It returns false if characters of a string are in Upper case, otherwise False.\n",
    "\n",
    "isspace()\t                    It returns true if the characters of a string are white-space, otherwise false.\n",
    "\n",
    "istitle()\t                    It returns true if the string is titled properly and false otherwise. \n",
    "                                A title string is the one in which the first character is upper-case \n",
    "                                whereas the other characters are lower-case.\n",
    "\n",
    "isupper()\t                    It returns true if all the characters of the string(if exists) is true otherwise it returns false.\n",
    "\n",
    "join(seq)\t                    It merges the strings representation of the given sequence.\n",
    "\n",
    "len(string)\t                    It returns the length of a string.\n",
    "\n",
    "ljust(width[,fillchar])\t        It returns the space padded strings with the original string left justified to the given width.\n",
    "\n",
    "lower()\t                        It converts all the characters of a string to Lower case.\n",
    "\n",
    "lstrip()\t                    It removes all leading whitespaces of a string and can also be used to remove particular character from leading.\n",
    "\n",
    "partition()\t                    It searches for the separator sep in S, and returns the part before it,\n",
    "                                the separator itself, and the part after it. If the separator\n",
    "                                is not found, return S and two empty strings.\n",
    "\n",
    "maketrans()\t                    It returns a translation table to be used in translate function.\n",
    "\n",
    "replace(old,new[,count])\t    It replaces the old sequence of characters with the new sequence.\n",
    "                                The max characters are replaced if max is given.\n",
    "\n",
    "rfind(str,beg=0,end=len(str))\tIt is similar to find but it traverses the string in backward direction.\n",
    "\n",
    "rindex(str))                \tIt is same as index but it traverses the string in backward direction.\n",
    "\n",
    "rjust(width,[,fillchar])\t    Returns a space padded string having original string right justified\n",
    "                                to the number of characters specified.\n",
    "\n",
    "rstrip()\t                    It removes all trailing whitespace of a string and can also be used\n",
    "                                to remove particular character from trailing.\n",
    "\n",
    "rsplit()\t                    It is same as split() but it processes the string from the backward direction.\n",
    "                                It returns the list of words in the string. If Separator is not specified then\n",
    "                                the string splits according to the white-space.\n",
    "\n",
    "split(str)\t                    Splits the string according to the delimiter str. The string splits according\n",
    "                                to the space if the delimiter is not provided. It returns the list of substring\n",
    "                                concatenated with the delimiter.\n",
    "\n",
    "startswith(str)             \tIt returns a Boolean value if the string starts with given str between begin and end.\n",
    "\n",
    "strip([chars])\t                It is used to perform lstrip() and rstrip() on the string.\n",
    "\n",
    "swapcase()\t                    It inverts case of all characters in a string.\n",
    "\n",
    "title()\t                        It is used to convert the string into the title-case i.e.,\n",
    "                                The string meEruT will be converted to Meerut.\n",
    "\n",
    "upper()\t                        It converts all the characters of a string to Upper Case."
   ]
  },
  {
   "cell_type": "code",
   "execution_count": 29,
   "metadata": {},
   "outputs": [
    {
     "name": "stdout",
     "output_type": "stream",
     "text": [
      "Datatrained\n",
      "****DataTrained*****\n",
      "True\n",
      "True\n",
      "True\n",
      "False\n",
      "False\n",
      "False\n",
      "False\n",
      "datatrained\n",
      "dataTrained\n",
      "['D', 't', 'Tr', 'ined']\n",
      "True\n",
      "dATAtRAINED\n",
      "Datatrained\n",
      "DATATRAINED\n"
     ]
    }
   ],
   "source": [
    "# Example\n",
    "example = \"DataTrained\"\n",
    "print(example.capitalize())\n",
    "print(example.center(20,\"*\"))\n",
    "print(example.endswith(\"ed\"))\n",
    "print(example.isalnum())\n",
    "print(example.isalpha())\n",
    "print(example.isdecimal())\n",
    "print(example.isdigit())\n",
    "print(example.islower())\n",
    "print(example.isnumeric())\n",
    "print(example.lower())\n",
    "print(example.replace(\"D\",\"d\"))\n",
    "print(example.split(\"a\"))\n",
    "print(example.startswith(\"Da\"))\n",
    "print(example.swapcase())\n",
    "print(example.title())\n",
    "print(example.upper())"
   ]
  },
  {
   "cell_type": "code",
   "execution_count": null,
   "metadata": {},
   "outputs": [],
   "source": []
  }
 ],
 "metadata": {
  "kernelspec": {
   "display_name": "Python 3",
   "language": "python",
   "name": "python3"
  },
  "language_info": {
   "codemirror_mode": {
    "name": "ipython",
    "version": 3
   },
   "file_extension": ".py",
   "mimetype": "text/x-python",
   "name": "python",
   "nbconvert_exporter": "python",
   "pygments_lexer": "ipython3",
   "version": "3.8.5"
  }
 },
 "nbformat": 4,
 "nbformat_minor": 2
}
